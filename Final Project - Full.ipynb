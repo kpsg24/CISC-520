{
 "cells": [
  {
   "cell_type": "markdown",
   "id": "61f69fca-5a1e-4ebe-80bf-67f674df04e8",
   "metadata": {},
   "source": [
    "## CISC 520-90- O-2024/Late Summer - Data Engineering and Mining\n",
    "## Final Project \n",
    "## Customer Service Chatbot Application - Logistics Tracking Function\n",
    "### Siyan Sun"
   ]
  },
  {
   "cell_type": "markdown",
   "id": "3aaa7114-46bf-49e1-b9ae-f5f2bd15ac33",
   "metadata": {},
   "source": [
    "#### Project Task: \n",
    "#### &emsp;To develop a chatbot that helps customers track their orders in real-time through natural, conversational interactions powered by an LLM. \n",
    "\n",
    "#### LLM Model:\n",
    "#### &emsp;microsoft/DialoGPT-small\n",
    "##### &emsp;&emsp;microsoft/DialoGPT-small is optimized for generating natural, conversational dialogue, perfect for customer service tasks like order tracking. Its lightweight design ensures fast, real-time responses, and it can be easily fine-tuned for specific needs. These features make it an efficient and reliable choice for building a user-friendly chatbot.\n",
    "\n",
    "#### Approach:\n",
    "#### &emsp;Step 1 : Collect source dataset for training, check, filter, and clean\n",
    "##### &emsp;&emsp;&emsp;&emsp;a. Load the customer support dataset* from hugging face for training.\n",
    "##### &emsp;&emsp;&emsp;&emsp;b. Print dataset check columns and sizes.\n",
    "##### &emsp;&emsp;&emsp;&emsp;c. Print and check 'intent' column's detail, find unqiue value in the list.\n",
    "##### &emsp;&emsp;&emsp;&emsp;d. Apply the filter to the customer support dataset, get track order relative dataset.\n",
    "##### &emsp;&emsp;&emsp;&emsp;e. Keep 'instruction' and 'response' only, transform to dialogue format.\n",
    "##### &emsp;&emsp;&emsp;&emsp;f. Print all unique placeholders, then replace placeholders with tokens\n",
    "#### &emsp;Step 2 : Preprocess the dataset for training\n",
    "##### &emsp;&emsp;&emsp;&emsp;a. Load the tokenizer and set the padding token.\n",
    "##### &emsp;&emsp;&emsp;&emsp;b. Define a tokenization function to tokenize, truncate, and pad the input dialogue.\n",
    "##### &emsp;&emsp;&emsp;&emsp;c. Process the dataset using the tokenization function and remove the original dialogue column.\n",
    "##### &emsp;&emsp;&emsp;&emsp;d. Set the dataset format to PyTorch Tensor for easier use in model training or inference.\n",
    "##### &emsp;&emsp;&emsp;&emsp;e. Set and load training arguments.\n",
    "##### &emsp;&emsp;&emsp;&emsp;f. Train tokenized_track_order_dataset, and then save the model.\n",
    "#### &emsp;Step 3 : Collect and clean order and shippment detail dataset\n",
    "##### &emsp;&emsp;&emsp;&emsp;a. Load the sales order/shipment dataset**.\n",
    "##### &emsp;&emsp;&emsp;&emsp;b. Print dataset check columns' detail.\n",
    "##### &emsp;&emsp;&emsp;&emsp;c. Resize the order number length.\n",
    "#### &emsp;Step 4 : Build the Customer Service Chatbot Application\n",
    "##### &emsp;&emsp;&emsp;&emsp;a. Import the necessary Python libraries for data processing, model handling, and conversation management.\n",
    "##### &emsp;&emsp;&emsp;&emsp;b. Load sales order/shipment**\n",
    "##### &emsp;&emsp;&emsp;&emsp;c. Load the fine-tuned language model and tokenizer to generate responses.\n",
    "##### &emsp;&emsp;&emsp;&emsp;d. Create a function to generate responses based on user input using the model.\n",
    "##### &emsp;&emsp;&emsp;&emsp;e. Develop a function to truncate responses at the last sentence-ending punctuation.\n",
    "##### &emsp;&emsp;&emsp;&emsp;f. Implement functions to extract order and tracking numbers from user input using regular expressions.\n",
    "##### &emsp;&emsp;&emsp;&emsp;g. Create a function to replace placeholders in responses with actual order details.\n",
    "##### &emsp;&emsp;&emsp;&emsp;h. Develop a function to clean and format the response by removing placeholders.\n",
    "##### &emsp;&emsp;&emsp;&emsp;i. Create a function to retrieve order details using the extracted order or tracking numbers.\n",
    "##### &emsp;&emsp;&emsp;&emsp;j. Build the main function to handle conversation flow and generate responses.\n",
    "##### &emsp;&emsp;&emsp;&emsp;k. Ensure the main function is executed when the script runs, initializing the tracking assistant.\n",
    "\n",
    "\n",
    "#### Reference:\n",
    "##### &emsp;*: \"Bitext - Customer Service Tagged Training Dataset for LLM-based Virtual Assistants\":\n",
    "##### &emsp;&emsp;https://huggingface.co/datasets/bitext/Bitext-customer-support-llm-chatbot-training-dataset\n",
    "##### &emsp;**: \"Supply Chain-Inventory Management-Data Analyst\":\n",
    "##### &emsp;&emsp;https://www.kaggle.com/datasets/mohammedazarudheen/supply-chain-inventory-management-data-analyst"
   ]
  },
  {
   "cell_type": "code",
   "execution_count": 3,
   "id": "7210ff26-eeb0-4364-8789-885e0e64a558",
   "metadata": {},
   "outputs": [
    {
     "name": "stdout",
     "output_type": "stream",
     "text": [
      "DatasetDict({\n",
      "    train: Dataset({\n",
      "        features: ['flags', 'instruction', 'category', 'intent', 'response'],\n",
      "        num_rows: 26872\n",
      "    })\n",
      "})\n"
     ]
    }
   ],
   "source": [
    "from datasets import load_dataset\n",
    "\n",
    "# Load the dataset from hugging face\n",
    "# https://huggingface.co/datasets/bitext/Bitext-customer-support-llm-chatbot-training-dataset\n",
    "customer_support_dataset = load_dataset(\"bitext/Bitext-customer-support-llm-chatbot-training-dataset\")\n",
    "\n",
    "# Print dataset check columns and sizes \n",
    "print(customer_support_dataset)"
   ]
  },
  {
   "cell_type": "code",
   "execution_count": 4,
   "id": "6762d5d1-b3c9-4284-9b89-6a2a8a1d2720",
   "metadata": {},
   "outputs": [
    {
     "name": "stdout",
     "output_type": "stream",
     "text": [
      "Unique intents in the dataset:\n",
      "registration_problems\n",
      "cancel_order\n",
      "check_payment_methods\n",
      "check_refund_policy\n",
      "track_order\n",
      "check_invoice\n",
      "switch_account\n",
      "create_account\n",
      "delivery_period\n",
      "get_refund\n",
      "set_up_shipping_address\n",
      "edit_account\n",
      "track_refund\n",
      "place_order\n",
      "get_invoice\n",
      "review\n",
      "delete_account\n",
      "contact_customer_service\n",
      "recover_password\n",
      "check_cancellation_fee\n",
      "change_order\n",
      "newsletter_subscription\n",
      "payment_issue\n",
      "delivery_options\n",
      "change_shipping_address\n",
      "contact_human_agent\n",
      "complaint\n"
     ]
    }
   ],
   "source": [
    "# Access the 'intent' column from the training dataset\n",
    "intents = customer_support_dataset['train']['intent']\n",
    "\n",
    "# Get the unique values by converting the list to a set\n",
    "unique_intents = set(intents)\n",
    "\n",
    "# Print the unique intents\n",
    "print(\"Unique intents in the dataset:\")\n",
    "for intents in unique_intents:\n",
    "    print(intents)\n"
   ]
  },
  {
   "cell_type": "code",
   "execution_count": 5,
   "id": "379e25fc-8cd0-4553-8eba-2a07b97e3ef1",
   "metadata": {},
   "outputs": [],
   "source": [
    "# track_order is strongest relative to our chatbot application\n",
    "intent_to_keep = ['track_order']\n",
    "\n",
    "def filter_intent(example):\n",
    "    return example['intent'] in intent_to_keep\n",
    "\n",
    "# Apply the filter to the customer support dataset, get only track order relative dataset\n",
    "track_order_dataset = customer_support_dataset.filter(filter_intent)"
   ]
  },
  {
   "cell_type": "code",
   "execution_count": 6,
   "id": "4aec640d-b1d5-4ac9-ad47-92045bba7c8b",
   "metadata": {},
   "outputs": [
    {
     "name": "stdout",
     "output_type": "stream",
     "text": [
      "{'dialogue': [\"User: needx help to check the ETA of purchase {{Order Number}}\\nAssistant: Your message means a lot! I'm aligned with the idea that you need assistance with checking the Estimated Time of Arrival (ETA) for your purchase with the order number {{Order Number}} {{Order Number}}. To obtain the ETA, you can visit the '{{Order Status}}' section on our website. It should provide you with the most up-to-date information regarding the delivery status of your purchase. If you have any further questions or require additional guidance, please feel free to ask. I'm here to ensure you have a smooth and satisfactory experience!\", \"User: ETA of purchase {{Order Number}}\\nAssistant: Thank you for reaching out! I'm here to assist you with checking the estimated time of arrival (ETA) for your purchase with the order number {{Order Number}}. To get the most up-to-date information on the ETA, I recommend visiting the '{{Order Status}}' section on our website. This will provide you with the accurate arrival estimation for your purchase. If you have any further questions or need additional assistance, please don't hesitate to let me know. My goal is to ensure you have a smooth and enjoyable shopping experience!\", \"User: need to check the eta of order {{Order Number}}\\nAssistant: Thank you for reaching out! I'm here to assist you with checking the estimated time of arrival (ETA) for your order with the order number {{Order Number}}. To provide you with the most accurate information, please allow me a few moments to retrieve the details. I appreciate your patience.\", \"User: I cannot see purchase {{Order Number}} current status\\nAssistant: I apologize for any inconvenience caused. I understand that you're having trouble accessing the current status of purchase number {{Order Number}}. To assist you further, could you please provide me with your account details, such as your registered email address or customer ID? This information will help me locate your purchase in our system and provide you with the accurate and up-to-date status. Your privacy and security are important to us, so rest assured that your information will be handled with the utmost confidentiality.\", \"User: can uhelp me to check the fucking eta of the order {{Order Number}}\\nAssistant: Glad you contacted us! I'm clearly cognizant that you need assistance in checking the estimated time of arrival (ETA) for your order with the order number {{Order Number}}. I apologize for the inappropriate language used in your instruction, but I assure you that I'm here to help you with your query. To provide you with the most accurate ETA information, could you please confirm the order number without using any explicit language? Once you provide the correct order number, I'll be able to assist you promptly.\"]}\n"
     ]
    }
   ],
   "source": [
    "# Only need instruction and response and transform in to diagoue format\n",
    "def preprocess_function(example):\n",
    "    instruction = example['instruction'].strip()\n",
    "    response = example['response'].strip()\n",
    "    # Combine into a dialogue format\n",
    "    text = f\"User: {instruction}\\nAssistant: {response}\"\n",
    "    return {'dialogue': text}\n",
    "\n",
    "# Apply the preprocess function to the filtered dataset\n",
    "processed_track_order_dataset = track_order_dataset.map(\n",
    "    preprocess_function,\n",
    "    remove_columns=['flags', 'instruction', 'category', 'intent', 'response']\n",
    ")\n",
    "\n",
    "# Check the top 5 rows of the track_order_dataset\n",
    "print(processed_track_order_dataset['train'][:5])"
   ]
  },
  {
   "cell_type": "code",
   "execution_count": 7,
   "id": "d753b5f6-2ec1-4805-b58d-e64b336c7269",
   "metadata": {},
   "outputs": [
    {
     "name": "stdout",
     "output_type": "stream",
     "text": [
      "Unique placeholders found:\n",
      "Order Number\n",
      "Client Name\n",
      "Online Customer Support Channel\n",
      "Order Status\n",
      "Tracking Page\n",
      "ETA\n",
      "Email Address\n",
      "Customer Support Phone Number\n",
      "Online Order Interaction\n",
      "Delivery Date\n",
      "Purchase Status\n",
      "Order Tracker\n",
      "Purchase History\n",
      "Customer Support Live Chat URL\n",
      "Website URL\n",
      "Shipping Status\n",
      "Purchase Details\n",
      "Track Order\n",
      "Customer Support Hours\n",
      "Order Tracking\n"
     ]
    }
   ],
   "source": [
    "# In the dataset examples, there have some {{...}} works as placeholder. Need to find out all of them.\n",
    "import re\n",
    "\n",
    "def extract_placeholders(text):\n",
    "    # Use re find out all {{...}} placeholders.\n",
    "    return re.findall(r'\\{\\{(.*?)\\}\\}', text)\n",
    "\n",
    "# Set a empty set for all_placeholders\n",
    "all_placeholders = []\n",
    "\n",
    "# Iterate through each sentence in the training set\n",
    "for sentence in processed_track_order_dataset['train']:\n",
    "    text = sentence['dialogue']\n",
    "    placeholders = extract_placeholders(text)\n",
    "    all_placeholders.extend(placeholders)\n",
    "\n",
    "# Pick the unique value\n",
    "unique_placeholders = set(all_placeholders)\n",
    "\n",
    "# Print out all placeholers's value\n",
    "print(\"Unique placeholders found:\")\n",
    "for placeholder in unique_placeholders:\n",
    "    print(f\"{placeholder}\")"
   ]
  },
  {
   "cell_type": "code",
   "execution_count": 13,
   "id": "00558461-c3ca-4dbf-a2b0-e5187c9e8428",
   "metadata": {},
   "outputs": [
    {
     "name": "stdout",
     "output_type": "stream",
     "text": [
      "{'dialogue': \"User: needx help to check the ETA of purchase <ORDER_NUMBER>\\nAssistant: Your message means a lot! I'm aligned with the idea that you need assistance with checking the Estimated Time of Arrival (ETA) for your purchase with the order number <ORDER_NUMBER> <ORDER_NUMBER>. To obtain the ETA, you can visit the '<ORDER_STATUS>' section on our website. It should provide you with the most up-to-date information regarding the delivery status of your purchase. If you have any further questions or require additional guidance, please feel free to ask. I'm here to ensure you have a smooth and satisfactory experience!\"}\n"
     ]
    }
   ],
   "source": [
    "def replace_placeholders_with_tokens(text):\n",
    "    if not isinstance(text, str):\n",
    "        return text\n",
    "    placeholder_to_token = {\n",
    "         'Order Status': '<ORDER_STATUS>',\n",
    "         'Website URL': '<WEBSITE_URL>',\n",
    "         'Email Address': '<EMAIL_ADDRESS>',\n",
    "         'Customer Support Phone Number': '<CUSTOMER_SUPPORT_PHONE_NUMBER>',\n",
    "         'Order Number': '<ORDER_NUMBER>',\n",
    "         'Online Order Interaction': '<ONLINE_ORDER_INTERACTION>',\n",
    "         'Client Name': '<CLIENT_NAME>',\n",
    "         'Purchase Details': '<PURCHASE_DETAILS>',\n",
    "         'Customer Support Hours': '<CUSTOMER_SUPPORT_HOURS>',\n",
    "         'Purchase History': '<PURCHASE_HISTORY>',\n",
    "         'Order Tracking': '<ORDER_TRACKING>',\n",
    "         'ETA': '<ETA>',\n",
    "         'Online Customer Support Channel': '<ONLINE_CUSTOMER_SUPPORT_CHANNEL>',\n",
    "         'Tracking Page': '<TRACKING_PAGE>',\n",
    "         'Order Tracker': '<ORDER_TRACKER>',\n",
    "         'Purchase Status': '<PURCHASE_STATUS>',\n",
    "         'Delivery Date': '<DELIVERY_DATE>',\n",
    "         'Track Order': '<TRACK_ORDER>',\n",
    "         'Shipping Status': '<SHIPPING_STATUS>',\n",
    "         'Customer Support Live Chat URL': '<CUSTOMER_SUPPORT_LIVE_CHAT_URL>'\n",
    "}\n",
    "\n",
    "    for placeholder, token in placeholder_to_token.items():\n",
    "        text = text.replace(f'{{{{{placeholder}}}}}', token)\n",
    "    return text\n",
    "\n",
    "# Replace with the cleaned processed_track_order_dataset\n",
    "def preprocess_replace_tokens_function(example):\n",
    "    instruction = replace_placeholders_with_tokens(example['dialogue'])\n",
    "    return {'dialogue': instruction}\n",
    "\n",
    "processed_track_order_dataset = processed_track_order_dataset.map(\n",
    "    preprocess_replace_tokens_function,\n",
    "    remove_columns=['dialogue'] \n",
    ")\n",
    "\n",
    "# Check the top row of the track_order_dataset\n",
    "print(processed_track_order_dataset['train'][0])\n"
   ]
  },
  {
   "cell_type": "code",
   "execution_count": 15,
   "id": "715326b5-3e70-49b0-adaf-1bdfd9b4d902",
   "metadata": {},
   "outputs": [],
   "source": [
    "from transformers import AutoTokenizer\n",
    "\n",
    "tokenizer = AutoTokenizer.from_pretrained('microsoft/DialoGPT-small')\n",
    "tokenizer.pad_token = tokenizer.eos_token\n",
    "\n",
    "def tokenize_function(examples):\n",
    "    return tokenizer(\n",
    "        examples['dialogue'],\n",
    "        truncation=True,\n",
    "        max_length=512,\n",
    "        padding='max_length',\n",
    "    )\n",
    "\n",
    "# Tokenize the dataset\n",
    "tokenized_track_order_dataset = processed_track_order_dataset.map(\n",
    "    tokenize_function,\n",
    "    batched=True,\n",
    "    remove_columns=['dialogue']\n",
    ")\n",
    "\n",
    "# Set the format for PyTorch tensors\n",
    "tokenized_track_order_dataset.set_format(type='torch', columns=['input_ids', 'attention_mask'])"
   ]
  },
  {
   "cell_type": "code",
   "execution_count": 16,
   "id": "5a879719-2454-4af9-a502-9f61bc5e2c61",
   "metadata": {},
   "outputs": [],
   "source": [
    "from transformers import AutoModelForCausalLM\n",
    "\n",
    "# Load Pretrained Model\n",
    "model = AutoModelForCausalLM.from_pretrained(\"microsoft/DialoGPT-small\")"
   ]
  },
  {
   "cell_type": "code",
   "execution_count": 17,
   "id": "d4cba6c3-3dfc-4c52-a3a1-6af9ccc4341e",
   "metadata": {},
   "outputs": [
    {
     "name": "stderr",
     "output_type": "stream",
     "text": [
      "2024-10-08 20:39:47.942799: I tensorflow/core/platform/cpu_feature_guard.cc:182] This TensorFlow binary is optimized to use available CPU instructions in performance-critical operations.\n",
      "To enable the following instructions: AVX2 AVX512F AVX512_VNNI FMA, in other operations, rebuild TensorFlow with the appropriate compiler flags.\n"
     ]
    }
   ],
   "source": [
    "from transformers import DataCollatorForLanguageModeling\n",
    "\n",
    "# Initialize the data collator\n",
    "data_collator = DataCollatorForLanguageModeling(\n",
    "    tokenizer=tokenizer,\n",
    "    mlm=False, # For causal language modeling\n",
    ")"
   ]
  },
  {
   "cell_type": "code",
   "execution_count": 20,
   "id": "7276de13-7539-46e0-968b-e93b9c7065ec",
   "metadata": {},
   "outputs": [],
   "source": [
    "from transformers import TrainingArguments\n",
    "import torch\n",
    "\n",
    "training_args = TrainingArguments(\n",
    "    output_dir='./fine-tuned-model',\n",
    "    overwrite_output_dir=True,\n",
    "    num_train_epochs=3,\n",
    "    per_device_train_batch_size=4,\n",
    "    gradient_accumulation_steps=8,\n",
    "    eval_strategy='no',\n",
    "    save_strategy='epoch',\n",
    "    logging_steps=500,\n",
    "    learning_rate=5e-5,\n",
    "    fp16=torch.cuda.is_available(),\n",
    "    report_to='none',\n",
    ")"
   ]
  },
  {
   "cell_type": "code",
   "execution_count": null,
   "id": "8dbb4d8b-3294-40d9-92d9-29a818994f3b",
   "metadata": {},
   "outputs": [],
   "source": [
    "from transformers import Trainer\n",
    "\n",
    "trainer = Trainer(\n",
    "    model=model,\n",
    "    args=training_args,\n",
    "    train_dataset=tokenized_track_order_dataset['train'],\n",
    "    data_collator=data_collator,\n",
    ")\n",
    "\n",
    "# Start training\n",
    "trainer.train()"
   ]
  },
  {
   "cell_type": "code",
   "execution_count": 45,
   "id": "39023439-60e2-4d20-848d-d889387cc01e",
   "metadata": {},
   "outputs": [
    {
     "data": {
      "text/plain": [
       "('./fine-tuned-model/tokenizer_config.json',\n",
       " './fine-tuned-model/special_tokens_map.json',\n",
       " './fine-tuned-model/vocab.json',\n",
       " './fine-tuned-model/merges.txt',\n",
       " './fine-tuned-model/added_tokens.json',\n",
       " './fine-tuned-model/tokenizer.json')"
      ]
     },
     "execution_count": 45,
     "metadata": {},
     "output_type": "execute_result"
    }
   ],
   "source": [
    "# Save the fine-tuned model and tokenizer\n",
    "trainer.save_model('./fine-tuned-model')\n",
    "tokenizer.save_pretrained('./fine-tuned-model')"
   ]
  },
  {
   "cell_type": "code",
   "execution_count": 21,
   "id": "4d1f2a26-2e4d-44c1-823d-b8502ed361bb",
   "metadata": {},
   "outputs": [
    {
     "name": "stdout",
     "output_type": "stream",
     "text": [
      "<class 'pandas.core.frame.DataFrame'>\n",
      "RangeIndex: 180519 entries, 0 to 180518\n",
      "Data columns (total 49 columns):\n",
      " #   Column                         Non-Null Count   Dtype  \n",
      "---  ------                         --------------   -----  \n",
      " 0   Product Category Id            180519 non-null  int64  \n",
      " 1   Category Name                  180519 non-null  object \n",
      " 2   Class                          180519 non-null  object \n",
      " 3   Customer City                  180519 non-null  object \n",
      " 4   Customer Country               180519 non-null  object \n",
      " 5   Customer Fname                 180519 non-null  object \n",
      " 6   Customer Id                    180519 non-null  int64  \n",
      " 7   Customer Lname                 180511 non-null  object \n",
      " 8   Customer Segment               180519 non-null  object \n",
      " 9   Customer State                 180519 non-null  object \n",
      " 10  Customer Street                180519 non-null  object \n",
      " 11  Customer Zipcode               180516 non-null  float64\n",
      " 12  Delivery Status                180519 non-null  object \n",
      " 13  Department Id                  180519 non-null  int64  \n",
      " 14  Department Name                180519 non-null  object \n",
      " 15  Market                         180519 non-null  object \n",
      " 16  Order City                     180519 non-null  object \n",
      " 17  Order Country                  180519 non-null  object \n",
      " 18  order date (DateOrders)        180519 non-null  object \n",
      " 19  Order Number                   180519 non-null  int64  \n",
      " 20  Order Region                   180519 non-null  object \n",
      " 21  Order State                    180519 non-null  object \n",
      " 22  Order Status                   180519 non-null  object \n",
      " 23  Product Id                     180519 non-null  int64  \n",
      " 24  Product Name                   180519 non-null  object \n",
      " 25  shipping date (DateOrders)     180519 non-null  object \n",
      " 26  Shipping Mode                  180519 non-null  object \n",
      " 27  Type                           180519 non-null  object \n",
      " 28  Benefit per order              180519 non-null  float64\n",
      " 29  Days for shipment (scheduled)  180519 non-null  int64  \n",
      " 30  Estimated Delivery Date        180519 non-null  object \n",
      " 31  Days for shipping (real)       180519 non-null  int64  \n",
      " 32  Actual Delivery Date           180519 non-null  object \n",
      " 33  Latitude                       180519 non-null  float64\n",
      " 34  Longitude                      180519 non-null  float64\n",
      " 35  Order Customer Id              180519 non-null  int64  \n",
      " 36  Order Item Cardprod Id         180519 non-null  int64  \n",
      " 37  Order Item Discount            180519 non-null  float64\n",
      " 38  Order Item Discount Rate       180519 non-null  float64\n",
      " 39  Order Item Id                  180519 non-null  int64  \n",
      " 40  Order Item Product Price       180519 non-null  float64\n",
      " 41  Order Item Profit Ratio        180519 non-null  float64\n",
      " 42  Order Item Quantity            180519 non-null  int64  \n",
      " 43  Order Item Total               180519 non-null  float64\n",
      " 44  Order Profit Per Order         180519 non-null  float64\n",
      " 45  Product Price                  180519 non-null  float64\n",
      " 46  Sales                          180519 non-null  float64\n",
      " 47  Sales per customer             180519 non-null  float64\n",
      " 48  Tracking Number                180519 non-null  object \n",
      "dtypes: float64(13), int64(11), object(25)\n",
      "memory usage: 67.5+ MB\n",
      "None\n"
     ]
    }
   ],
   "source": [
    "#Load order/shipment dataset\n",
    "import pandas as pd\n",
    "order_data = pd.read_csv('./Sales_Shipment_Data.csv')\n",
    "print(order_data.info())"
   ]
  },
  {
   "cell_type": "code",
   "execution_count": 22,
   "id": "93b1af72-f1e2-46a6-bc39-5087a944805b",
   "metadata": {},
   "outputs": [
    {
     "name": "stdout",
     "output_type": "stream",
     "text": [
      "0    53963\n",
      "1     3908\n",
      "2    52009\n",
      "3     1179\n",
      "4    56019\n",
      "Name: Order Number, dtype: int64\n"
     ]
    }
   ],
   "source": [
    "print(order_data['Order Number'].head())"
   ]
  },
  {
   "cell_type": "code",
   "execution_count": 23,
   "id": "07d74d7c-2a8c-4589-a1d4-e8b29b38e889",
   "metadata": {},
   "outputs": [],
   "source": [
    "# Ensure all order numbers are strings and pad with leading zeros to make them 5 characters long\n",
    "order_data['Order Number'] = order_data['Order Number'].astype(str).str.zfill(5)"
   ]
  },
  {
   "cell_type": "code",
   "execution_count": 33,
   "id": "63187a15-281d-41e5-99b9-883dc1ca72ef",
   "metadata": {},
   "outputs": [
    {
     "name": "stdout",
     "output_type": "stream",
     "text": [
      "Assistant: Hello! Welcome to the Order Tracking Assistant. How can I help you today?\n"
     ]
    },
    {
     "name": "stdin",
     "output_type": "stream",
     "text": [
      "You:  I want to track order 60740.\n"
     ]
    },
    {
     "name": "stdout",
     "output_type": "stream",
     "text": [
      "Hi,Susan. Your order 60740 is currently Pending Payment. The estimated delivery date is 6/13/17. Is there anything else I can assist you with today? Feel free to ask if you need further help or have any other questions.\n"
     ]
    },
    {
     "name": "stdin",
     "output_type": "stream",
     "text": [
      "You:  I also want track an order with a tracking number TRK370784603..\n"
     ]
    },
    {
     "name": "stdout",
     "output_type": "stream",
     "text": [
      "Hi,Susan. Your tracking number TRK370784603. Your order number 48008 is currently Pending. The estimated delivery date is 12/4/16. Is there anything else I can assist you with today? Feel free to ask if you need further help or have any other questions.\n"
     ]
    },
    {
     "name": "stdin",
     "output_type": "stream",
     "text": [
      "You:  Thank\n"
     ]
    },
    {
     "name": "stdout",
     "output_type": "stream",
     "text": [
      "Assistant: My pleasure! Let me know if you need further help.\n"
     ]
    }
   ],
   "source": [
    "from collections import deque\n",
    "\n",
    "# Load model and tokenizer\n",
    "tokenizer = AutoTokenizer.from_pretrained(\"./fine-tuned-model\")\n",
    "model = AutoModelForCausalLM.from_pretrained(\"./fine-tuned-model\")\n",
    "tokenizer.pad_token = tokenizer.eos_token  # Set pad_token\n",
    "\n",
    "def generate_response(prompt, max_length=50):  # Limit generation length\n",
    "    inputs = tokenizer(prompt + tokenizer.eos_token, return_tensors='pt', padding=True)\n",
    "    input_ids = tokenizer.encode(prompt + tokenizer.eos_token, return_tensors='pt')\n",
    "    input_ids = input_ids.to(model.device)\n",
    "    attention_mask = inputs['attention_mask'].to(model.device)\n",
    "    \n",
    "    output_ids = model.generate(\n",
    "        input_ids,\n",
    "        max_length=max_length + input_ids.shape[1],\n",
    "        pad_token_id=tokenizer.eos_token_id,\n",
    "        do_sample=True,\n",
    "        # temperature=0.8,  # Lower temperature to make generation more orderly\n",
    "        top_p=0.95,        # Lower top_p to make generation more deterministic\n",
    "        top_k=60,          # Lower top_k to restrict the range of generated content\n",
    "        no_repeat_ngram_size=2  # Avoid generating repeating n-gram phrases\n",
    "    )\n",
    "    \n",
    "    response = tokenizer.decode(output_ids[0][input_ids.shape[1]:], skip_special_tokens=True)\n",
    "    \n",
    "    # Find the last sentence-ending punctuation and preserve as many sentences as possible\n",
    "    response = truncate_at_sentence_end(response)\n",
    "    \n",
    "    return response.strip()\n",
    "\n",
    "def truncate_at_sentence_end(response):\n",
    "    # Use regular expressions to find all sentence-ending punctuation (period, question mark, exclamation mark)\n",
    "    sentence_endings = list(re.finditer(r'[.!?]', response))\n",
    "    \n",
    "    if sentence_endings:\n",
    "        # If multiple sentence-ending punctuation marks are found, take the last one\n",
    "        last_ending = sentence_endings[-1]\n",
    "        return response[:last_ending.end()]  # Keep up to the position of the last punctuation mark\n",
    "    else:\n",
    "        return response  # If no punctuation marks, return the entire response\n",
    "\n",
    "def extract_order_id(user_input):\n",
    "    match = re.search(r'\\b\\d{5}\\b', user_input)\n",
    "    if match:\n",
    "        return match.group(0)\n",
    "    return None\n",
    "\n",
    "def extract_tracking_number(user_input):\n",
    "    match = re.search(r'\\bTRK\\d{9}\\b', user_input)\n",
    "    if match:\n",
    "        return match.group(0)\n",
    "    return None\n",
    "\n",
    "def post_process_response(response, \n",
    "                          order_number=None, \n",
    "                          order_status=None, \n",
    "                          order_tracking=None, \n",
    "                          eta=None,  \n",
    "                          purchase_status=None, \n",
    "                          delivery_date=None, \n",
    "                          track_order=None, \n",
    "                          shipping_status=None, \n",
    "                          tracking_number=None,\n",
    "                          customer_fname=None\n",
    "                          ):\n",
    "    \n",
    "    if order_number:\n",
    "        response = response.replace('<ORDER_NUMBER>', order_number) # Order Number\n",
    "    if order_status:\n",
    "        response = response.replace('<ORDER_STATUS>', order_status) # Order Status\n",
    "    if order_tracking:\n",
    "        response = response.replace('<ORDER_TRACKING>', order_tracking)\n",
    "    if eta:\n",
    "        response = response.replace('<ETA>', eta)\n",
    "    if purchase_status:\n",
    "        response = response.replace('<PURCHASE_STATUS>', purchase_status)\n",
    "    if delivery_date:\n",
    "        response = response.replace('<DELIVERY_DATE>', delivery_date)\n",
    "    if track_order:\n",
    "        response = response.replace('<TRACK_ORDER>', track_order)\n",
    "    if shipping_status:\n",
    "        response = response.replace('<SHIPPING_STATUS>', shipping_status)\n",
    "    if tracking_number:\n",
    "        response = response.replace('<TRACKING_NUMBER>', tracking_number)\n",
    "    if customer_fname:\n",
    "        response = response.replace('<CUSTOMER_FNAME>', customer_fname)\n",
    "\n",
    "    response = re.sub(r'<[^>]+>', '', response)\n",
    "\n",
    "    return response\n",
    "\n",
    "def clean_generated_response(response):\n",
    "    # Replace placeholders enclosed in < and >, and replace underscores with spaces\n",
    "    clean_response = []\n",
    "    for sentence in response.split('.'):\n",
    "        # Remove any '<...>' placeholders by replacing them with an empty string\n",
    "        cleaned_sentence = re.sub(r'<[^>]*>', '', sentence)\n",
    "        # Replace underscores with spaces\n",
    "        cleaned_sentence = cleaned_sentence.replace('_', ' ')\n",
    "        clean_response.append(cleaned_sentence.strip())\n",
    "    \n",
    "    # Join the cleaned sentences back into a full response\n",
    "    return '. '.join(clean_response).strip()\n",
    "\n",
    "\n",
    "\n",
    "def get_order_details(order_number=None, tracking_number=None):\n",
    "    if order_number:\n",
    "        result = order_data[order_data['Order Number'] == order_number]\n",
    "    elif tracking_number:\n",
    "        result = order_data[order_data['Tracking Number'] == tracking_number]\n",
    "    else:\n",
    "        return None, None\n",
    "    \n",
    "    if not result.empty:\n",
    "        order_status = result.iloc[0]['Order Status']\n",
    "        eta = result.iloc[0]['Estimated Delivery Date']\n",
    "        shipping_status = result.iloc[0]['Delivery Status']\n",
    "        customer_fname = result.iloc[0]['Customer Fname']\n",
    "        order_number = result.iloc[0]['Order Number']\n",
    "        #tracking_number = result.iloc[0]['Tracking Number']\n",
    "        \n",
    "        return order_status, eta, shipping_status, customer_fname, order_number#, tracking_number\n",
    "    return None, None,None, None,None\n",
    "\n",
    "def tracking_system():\n",
    "    print(\"Assistant: Hello! Welcome to the Order Tracking Assistant. How can I help you today?\")\n",
    "    \n",
    "    # Use deque to manage conversation history, keeping up to 6 messages (3 rounds of dialogue)\n",
    "    conversation_history = deque(maxlen=6)\n",
    "    \n",
    "    while True:\n",
    "        user_input = input(\"You: \").strip()\n",
    "        \n",
    "        if user_input.lower() in ['exit', 'quit', 'bye','end']:\n",
    "            print(\"Assistant: Thank you for using the Order Tracking Assistant. Have a great day!\")\n",
    "            break\n",
    "        if user_input.lower() in ['thank', 'thanks','thanks.']:\n",
    "            print(\"Assistant: My pleasure! Let me know if you need further help.\")\n",
    "            break\n",
    "        \n",
    "        # Add user message to conversation history\n",
    "        conversation_history.append(f\"Customer: {user_input}\")\n",
    "        \n",
    "        # Extract order number and tracking number from user input\n",
    "        order_number = extract_order_id(user_input)\n",
    "        tracking_number = extract_tracking_number(user_input)\n",
    "        \n",
    "        if not order_number and not tracking_number:\n",
    "            # If the user did not provide an order number or tracking number, prompt the user to provide them\n",
    "            assistant_prompt = \"\\n\".join(conversation_history) + \"\\n\" + \"Order Tracking Assistant: Provide a short and direct answer. \" \\\n",
    "                                \"Ask the user to provide both their order number and tracking number if they want to track an order. \"\n",
    "            \n",
    "            response = generate_response(assistant_prompt)\n",
    "        \n",
    "        else:\n",
    "            # Retrieve order details from the CSV based on order_number or tracking_number\n",
    "            order_status, eta, shipping_status, customer_fname, order_number = get_order_details(order_number, tracking_number)\n",
    "            \n",
    "            if not order_status or not eta:\n",
    "                # If order details are not found, inform the user\n",
    "                response = \"I'm sorry, I couldn't find any details for the provided order number or tracking number. Please check and try again.\"\n",
    "            else:\n",
    "                # If order_number or tracking_number provided\n",
    "                 order_number = order_number\n",
    "                 tracking_number = tracking_number\n",
    "                 order_status = order_status\n",
    "                 eta = eta \n",
    "                 customer_fname = customer_fname\n",
    "                 \n",
    "                 if tracking_number:\n",
    "                     response_template = \"Hi,<CUSTOMER_FNAME>.Your tracking number <TRACKING_NUMBER>. Your order number <ORDER_NUMBER> is currently <ORDER_STATUS>. The estimated delivery date is <ETA>.Is there anything else I can assist you with today? Feel free to ask if you need further help or have any other questions.\" \n",
    "                 elif order_number:\n",
    "                     response_template = \"Hi,<CUSTOMER_FNAME>.Your order <ORDER_NUMBER> is currently <ORDER_STATUS>. The estimated delivery date is <ETA>.Is there anything else I can assist you with today? Feel free to ask if you need further help or have any other questions.\" \n",
    "                \n",
    "                 response = post_process_response(\n",
    "                    response_template, \n",
    "                    order_number=order_number, \n",
    "                    tracking_number=tracking_number, \n",
    "                    order_status=order_status, \n",
    "                    eta=eta,\n",
    "                    customer_fname = customer_fname\n",
    "                 )\n",
    "                \n",
    "                  # Further clean \n",
    "                 response = clean_generated_response(response)\n",
    "\n",
    "                  # reset value\n",
    "                 order_status = None\n",
    "                 eta = None\n",
    "                 shipping_status = None\n",
    "                 customer_fname = None\n",
    "                 order_number = None\n",
    "                 tracking_number = None\n",
    "              \n",
    "        # Print and add assistant's reply to conversation history\n",
    "        print(f\"{response}\")\n",
    "        conversation_history.append(f\"Order Tracking Assistant: {response}\")\n",
    "\n",
    "if __name__ == \"__main__\":\n",
    "    tracking_system()"
   ]
  },
  {
   "cell_type": "code",
   "execution_count": null,
   "id": "c9583952-ee2b-4f71-857f-21742c07103e",
   "metadata": {},
   "outputs": [],
   "source": []
  }
 ],
 "metadata": {
  "kernelspec": {
   "display_name": "Python 3 (ipykernel)",
   "language": "python",
   "name": "python3"
  },
  "language_info": {
   "codemirror_mode": {
    "name": "ipython",
    "version": 3
   },
   "file_extension": ".py",
   "mimetype": "text/x-python",
   "name": "python",
   "nbconvert_exporter": "python",
   "pygments_lexer": "ipython3",
   "version": "3.11.7"
  }
 },
 "nbformat": 4,
 "nbformat_minor": 5
}
